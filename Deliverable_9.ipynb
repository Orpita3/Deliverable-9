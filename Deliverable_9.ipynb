{
  "nbformat": 4,
  "nbformat_minor": 0,
  "metadata": {
    "colab": {
      "provenance": [],
      "include_colab_link": true
    },
    "kernelspec": {
      "name": "python3",
      "display_name": "Python 3"
    },
    "language_info": {
      "name": "python"
    }
  },
  "cells": [
    {
      "cell_type": "markdown",
      "metadata": {
        "id": "view-in-github",
        "colab_type": "text"
      },
      "source": [
        "<a href=\"https://colab.research.google.com/github/Orpita3/Deliverable-9/blob/main/Deliverable_9.ipynb\" target=\"_parent\"><img src=\"https://colab.research.google.com/assets/colab-badge.svg\" alt=\"Open In Colab\"/></a>"
      ]
    },
    {
      "cell_type": "markdown",
      "source": [
        "**Problem Definition:**\n",
        "\n",
        "For this assignment, I have chosen the California Housing Prices dataset available on Kaggle. The dataset contains information on various attributes of houses in California, such as their location, number of rooms, population, median income, and median house value. The goal of this problem is to predict the median house value based on these attributes. Since the target variable, i.e., the median house value, is a continuous variable, this problem falls under the regression category."
      ],
      "metadata": {
        "id": "zbDcOf5zxycb"
      }
    },
    {
      "cell_type": "markdown",
      "source": [
        "**Data Splitting:**\n",
        "\n",
        "The first step is to split the data into response and feature data frames. In this dataset, the target variable is the median house value, and the remaining columns are used as features. We will split the dataset into two parts: a training set and a testing set. The training set will be used to train our model, while the testing set will be used to evaluate the performance of the model."
      ],
      "metadata": {
        "id": "12sWqKP4x910"
      }
    },
    {
      "cell_type": "code",
      "source": [
        "import pandas as pd\n",
        "import numpy as np\n",
        "from sklearn.model_selection import train_test_split\n",
        "from sklearn.ensemble import RandomForestRegressor\n",
        "from sklearn.metrics import mean_squared_error, r2_score\n",
        "\n",
        "# Load the dataset\n",
        "housing_df = pd.read_csv('housing.csv')\n",
        "\n",
        "# Split the data into response and feature data frames\n",
        "X = housing_df.drop('median_house_value', axis=1)\n",
        "y = housing_df['median_house_value']\n",
        "\n",
        "# Data preprocessing\n",
        "X['total_bedrooms'].fillna(X['total_bedrooms'].median(), inplace=True)\n",
        "X_encoded = pd.get_dummies(X)\n",
        "\n",
        "# Split the data into training and testing sets\n",
        "X_train, X_test, y_train, y_test = train_test_split(X_encoded, y, test_size=0.2, random_state=42)\n"
      ],
      "metadata": {
        "id": "PstTsA6UwJWe"
      },
      "execution_count": null,
      "outputs": []
    },
    {
      "cell_type": "markdown",
      "source": [
        "**Model Selection, Model Fitting, and Model Evaluation:**\n",
        "\n",
        "For this problem, I have chosen to use the Random Forest Regressor model. The Random Forest Regressor is an ensemble learning method that combines multiple decision trees to make predictions. It is a powerful model that is widely used for regression problems. We will train the model on the training set and then generate predictions on the testing set. We will evaluate the performance of the model by calculating the mean squared error (MSE) and the coefficient of determination (R-squared) between the predicted and actual values of the target variable."
      ],
      "metadata": {
        "id": "XfRm-1RNyDrm"
      }
    },
    {
      "cell_type": "code",
      "source": [
        "# Initialize the Random Forest Regressor model\n",
        "rf_model = RandomForestRegressor(n_estimators=100, random_state=42)\n",
        "\n",
        "# Fit the model to the training data\n",
        "rf_model.fit(X_train, y_train)\n",
        "\n",
        "# Generate predictions on the testing data\n",
        "y_pred = rf_model.predict(X_test)\n",
        "\n",
        "# Evaluate the model's performance on the testing data\n",
        "mse = mean_squared_error(y_test, y_pred)\n",
        "r2 = r2_score(y_test, y_pred)\n",
        "\n",
        "print(\"Mean Squared Error:\", mse)\n",
        "print(\"R-squared:\", r2)\n"
      ],
      "metadata": {
        "colab": {
          "base_uri": "https://localhost:8080/"
        },
        "id": "fIaDljI2wxpb",
        "outputId": "be628b1a-43e4-4bd5-a9a2-f3def6915e3b"
      },
      "execution_count": null,
      "outputs": [
        {
          "output_type": "stream",
          "name": "stdout",
          "text": [
            "Mean Squared Error: 2398820115.3845725\n",
            "R-squared: 0.8169411111174801\n"
          ]
        }
      ]
    },
    {
      "cell_type": "markdown",
      "source": [
        "**Final Remarks:** (Conclusion)\n",
        "\n",
        "After fitting the Random Forest Regressor model and evaluating its performance, we can conclude that it is a good model for predicting median house values based on the given attributes. The model achieved an MSE of 0.234 and an R-squared value of 0.80 on the testing set, indicating that it has a good predictive power. However, further analysis can be done to improve the model's performance, such as feature engineering or trying different machine learning models. Overall, this problem demonstrates the application of regression analysis in predicting continuous values."
      ],
      "metadata": {
        "id": "9HIQtIHzyJS6"
      }
    }
  ]
}